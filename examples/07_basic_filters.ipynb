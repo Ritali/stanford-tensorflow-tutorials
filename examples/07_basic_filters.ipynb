{
 "cells": [
  {
   "cell_type": "code",
   "execution_count": 1,
   "metadata": {
    "collapsed": false
   },
   "outputs": [
    {
     "name": "stderr",
     "output_type": "stream",
     "text": [
      "//anaconda/envs/anaconda3/lib/python3.6/importlib/_bootstrap.py:219: RuntimeWarning: compiletime version 3.5 of module 'tensorflow.python.framework.fast_tensor_util' does not match runtime version 3.6\n",
      "  return f(*args, **kwds)\n"
     ]
    },
    {
     "data": {
      "image/png": "[encoded data removed]",
      "text/plain": [
       "<matplotlib.figure.Figure at 0x181f0ad6a0>"
      ]
     },
     "metadata": {},
     "output_type": "display_data"
    }
   ],
   "source": [
    "\"\"\"\n",
    "Simple examples of convolution to do some basic filters\n",
    "Also demonstrates the use of TensorFlow data readers.\n",
    "We will use some popular filters for our image.\n",
    "It seems to be working with grayscale images, but not with rgb images.\n",
    "It's probably because I didn't choose the right kernels for rgb images.\n",
    "kernels for rgb images have dimensions 3 x 3 x 3 x 3\n",
    "kernels for grayscale images have dimensions 3 x 3 x 1 x 1\n",
    "Note:\n",
    "When you call tf.train.string_input_producer,\n",
    "a tf.train.QueueRunner is added to the graph, which must be run using\n",
    "e.g. tf.train.start_queue_runners() else your session will run into deadlock\n",
    "and your program will crash.\n",
    "And to run QueueRunner, you need a coordinator to close to your queue for you.\n",
    "Without coordinator, your threads will keep on running outside session and you will have the error:\n",
    "ERROR:tensorflow:Exception in QueueRunner: Attempted to use a closed Session.\n",
    "Author: Chip Huyen\n",
    "Prepared for the class CS 20SI: \"TensorFlow for Deep Learning Research\"\n",
    "cs20si.stanford.edu\n",
    "\"\"\"\n",
    "import os\n",
    "os.environ['TF_CPP_MIN_LOG_LEVEL']='2'\n",
    "\n",
    "import sys\n",
    "sys.path.append('..')\n",
    "\n",
    "from matplotlib import gridspec as gridspec\n",
    "from matplotlib import pyplot as plt\n",
    "import tensorflow as tf\n",
    "\n",
    "import kernels\n",
    "\n",
    "FILENAME = 'data/friday.jpg'\n",
    "\n",
    "def read_one_image(filename):\n",
    "    \"\"\" This is just to demonstrate how to open an image in TensorFlow,\n",
    "    but it's actually a lot easier to use Pillow \n",
    "    \"\"\"\n",
    "    filename_queue = tf.train.string_input_producer([filename])\n",
    "    image_reader = tf.WholeFileReader()\n",
    "    _, image_file = image_reader.read(filename_queue)\n",
    "    image = tf.image.decode_jpeg(image_file, channels=3)\n",
    "    image = tf.cast(image, tf.float32) / 256.0 # cast to float to make conv2d work\n",
    "    return image\n",
    "\n",
    "def convolve(image, kernels, rgb=True, strides=[1, 3, 3, 1], padding='SAME'):\n",
    "    images = [image[0]]\n",
    "    for i, kernel in enumerate(kernels):\n",
    "        filtered_image = tf.nn.conv2d(image, kernel, strides=strides, padding=padding)[0]\n",
    "        if i == 2:\n",
    "            filtered_image = tf.minimum(tf.nn.relu(filtered_image), 255)\n",
    "        images.append(filtered_image)\n",
    "    return images\n",
    "\n",
    "def get_real_images(images):\n",
    "    with tf.Session() as sess:\n",
    "        coord = tf.train.Coordinator()\n",
    "        threads = tf.train.start_queue_runners(coord=coord)\n",
    "        images = sess.run(images)\n",
    "        coord.request_stop()\n",
    "        coord.join(threads)\n",
    "    return images\n",
    "\n",
    "def show_images(images, rgb=True):\n",
    "    gs = gridspec.GridSpec(1, len(images))\n",
    "    for i, image in enumerate(images):\n",
    "        plt.subplot(gs[0, i])\n",
    "        if rgb:\n",
    "            plt.imshow(image)\n",
    "        else: \n",
    "            image = image.reshape(image.shape[0], image.shape[1])\n",
    "            plt.imshow(image, cmap='gray')\n",
    "        plt.axis('off')\n",
    "    plt.show()\n",
    "\n",
    "def main():\n",
    "    rgb = False\n",
    "    if rgb:\n",
    "        kernels_list = [kernels.BLUR_FILTER_RGB, kernels.SHARPEN_FILTER_RGB, kernels.EDGE_FILTER_RGB, \n",
    "                    kernels.TOP_SOBEL_RGB, kernels.EMBOSS_FILTER_RGB]\n",
    "    else:\n",
    "        kernels_list = [kernels.BLUR_FILTER, kernels.SHARPEN_FILTER, kernels.EDGE_FILTER, \n",
    "                    kernels.TOP_SOBEL, kernels.EMBOSS_FILTER]\n",
    "\n",
    "    image = read_one_image(FILENAME)\n",
    "    if not rgb:\n",
    "        image = tf.image.rgb_to_grayscale(image)\n",
    "    image = tf.expand_dims(image, 0) # to make it into a batch of 1 element\n",
    "    images = convolve(image, kernels_list, rgb)\n",
    "    images = get_real_images(images)\n",
    "    show_images(images, rgb)\n",
    "\n",
    "if __name__ == '__main__':\n",
    "    main()"
   ]
  },
  {
   "cell_type": "code",
   "execution_count": null,
   "metadata": {
    "collapsed": true
   },
   "outputs": [],
   "source": []
  }
 ],
 "metadata": {
  "kernelspec": {
   "display_name": "Python [anaconda3]",
   "language": "python",
   "name": "Python [anaconda3]"
  },
  "language_info": {
   "codemirror_mode": {
    "name": "ipython",
    "version": 3
   },
   "file_extension": ".py",
   "mimetype": "text/x-python",
   "name": "python",
   "nbconvert_exporter": "python",
   "pygments_lexer": "ipython3",
   "version": "3.6.3"
  }
 },
 "nbformat": 4,
 "nbformat_minor": 0
}
